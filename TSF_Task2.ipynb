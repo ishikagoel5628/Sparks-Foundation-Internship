{
 "cells": [
  {
   "cell_type": "markdown",
   "metadata": {},
   "source": [
    "## K-Means Clustering"
   ]
  },
  {
   "cell_type": "markdown",
   "metadata": {},
   "source": [
    " In this task we are going to train our model on the 'Iris.csv' dataset and predict the optimal number of clusters"
   ]
  },
  {
   "cell_type": "code",
   "execution_count": 1,
   "metadata": {},
   "outputs": [],
   "source": [
    "#importing the reqiured libraries\n",
    "import pandas as pd\n",
    "import numpy as np\n",
    "import seaborn as sns\n",
    "import matplotlib.pyplot as plt\n",
    "from sklearn import metrics\n",
    "from sklearn.cluster import KMeans\n",
    "%matplotlib inline"
   ]
  },
  {
   "cell_type": "code",
   "execution_count": 2,
   "metadata": {},
   "outputs": [
    {
     "data": {
      "text/html": [
       "<div>\n",
       "<style scoped>\n",
       "    .dataframe tbody tr th:only-of-type {\n",
       "        vertical-align: middle;\n",
       "    }\n",
       "\n",
       "    .dataframe tbody tr th {\n",
       "        vertical-align: top;\n",
       "    }\n",
       "\n",
       "    .dataframe thead th {\n",
       "        text-align: right;\n",
       "    }\n",
       "</style>\n",
       "<table border=\"1\" class=\"dataframe\">\n",
       "  <thead>\n",
       "    <tr style=\"text-align: right;\">\n",
       "      <th></th>\n",
       "      <th>Id</th>\n",
       "      <th>SepalLengthCm</th>\n",
       "      <th>SepalWidthCm</th>\n",
       "      <th>PetalLengthCm</th>\n",
       "      <th>PetalWidthCm</th>\n",
       "      <th>Species</th>\n",
       "    </tr>\n",
       "  </thead>\n",
       "  <tbody>\n",
       "    <tr>\n",
       "      <th>0</th>\n",
       "      <td>1</td>\n",
       "      <td>5.1</td>\n",
       "      <td>3.5</td>\n",
       "      <td>1.4</td>\n",
       "      <td>0.2</td>\n",
       "      <td>Iris-setosa</td>\n",
       "    </tr>\n",
       "    <tr>\n",
       "      <th>1</th>\n",
       "      <td>2</td>\n",
       "      <td>4.9</td>\n",
       "      <td>3.0</td>\n",
       "      <td>1.4</td>\n",
       "      <td>0.2</td>\n",
       "      <td>Iris-setosa</td>\n",
       "    </tr>\n",
       "    <tr>\n",
       "      <th>2</th>\n",
       "      <td>3</td>\n",
       "      <td>4.7</td>\n",
       "      <td>3.2</td>\n",
       "      <td>1.3</td>\n",
       "      <td>0.2</td>\n",
       "      <td>Iris-setosa</td>\n",
       "    </tr>\n",
       "    <tr>\n",
       "      <th>3</th>\n",
       "      <td>4</td>\n",
       "      <td>4.6</td>\n",
       "      <td>3.1</td>\n",
       "      <td>1.5</td>\n",
       "      <td>0.2</td>\n",
       "      <td>Iris-setosa</td>\n",
       "    </tr>\n",
       "    <tr>\n",
       "      <th>4</th>\n",
       "      <td>5</td>\n",
       "      <td>5.0</td>\n",
       "      <td>3.6</td>\n",
       "      <td>1.4</td>\n",
       "      <td>0.2</td>\n",
       "      <td>Iris-setosa</td>\n",
       "    </tr>\n",
       "    <tr>\n",
       "      <th>5</th>\n",
       "      <td>6</td>\n",
       "      <td>5.4</td>\n",
       "      <td>3.9</td>\n",
       "      <td>1.7</td>\n",
       "      <td>0.4</td>\n",
       "      <td>Iris-setosa</td>\n",
       "    </tr>\n",
       "    <tr>\n",
       "      <th>6</th>\n",
       "      <td>7</td>\n",
       "      <td>4.6</td>\n",
       "      <td>3.4</td>\n",
       "      <td>1.4</td>\n",
       "      <td>0.3</td>\n",
       "      <td>Iris-setosa</td>\n",
       "    </tr>\n",
       "    <tr>\n",
       "      <th>7</th>\n",
       "      <td>8</td>\n",
       "      <td>5.0</td>\n",
       "      <td>3.4</td>\n",
       "      <td>1.5</td>\n",
       "      <td>0.2</td>\n",
       "      <td>Iris-setosa</td>\n",
       "    </tr>\n",
       "    <tr>\n",
       "      <th>8</th>\n",
       "      <td>9</td>\n",
       "      <td>4.4</td>\n",
       "      <td>2.9</td>\n",
       "      <td>1.4</td>\n",
       "      <td>0.2</td>\n",
       "      <td>Iris-setosa</td>\n",
       "    </tr>\n",
       "    <tr>\n",
       "      <th>9</th>\n",
       "      <td>10</td>\n",
       "      <td>4.9</td>\n",
       "      <td>3.1</td>\n",
       "      <td>1.5</td>\n",
       "      <td>0.1</td>\n",
       "      <td>Iris-setosa</td>\n",
       "    </tr>\n",
       "  </tbody>\n",
       "</table>\n",
       "</div>"
      ],
      "text/plain": [
       "   Id  SepalLengthCm  SepalWidthCm  PetalLengthCm  PetalWidthCm      Species\n",
       "0   1            5.1           3.5            1.4           0.2  Iris-setosa\n",
       "1   2            4.9           3.0            1.4           0.2  Iris-setosa\n",
       "2   3            4.7           3.2            1.3           0.2  Iris-setosa\n",
       "3   4            4.6           3.1            1.5           0.2  Iris-setosa\n",
       "4   5            5.0           3.6            1.4           0.2  Iris-setosa\n",
       "5   6            5.4           3.9            1.7           0.4  Iris-setosa\n",
       "6   7            4.6           3.4            1.4           0.3  Iris-setosa\n",
       "7   8            5.0           3.4            1.5           0.2  Iris-setosa\n",
       "8   9            4.4           2.9            1.4           0.2  Iris-setosa\n",
       "9  10            4.9           3.1            1.5           0.1  Iris-setosa"
      ]
     },
     "execution_count": 2,
     "metadata": {},
     "output_type": "execute_result"
    }
   ],
   "source": [
    "#reading the dataset\n",
    "df=pd.read_csv('Iris.csv')\n",
    "df.head(10)"
   ]
  },
  {
   "cell_type": "code",
   "execution_count": 3,
   "metadata": {},
   "outputs": [
    {
     "data": {
      "text/html": [
       "<div>\n",
       "<style scoped>\n",
       "    .dataframe tbody tr th:only-of-type {\n",
       "        vertical-align: middle;\n",
       "    }\n",
       "\n",
       "    .dataframe tbody tr th {\n",
       "        vertical-align: top;\n",
       "    }\n",
       "\n",
       "    .dataframe thead th {\n",
       "        text-align: right;\n",
       "    }\n",
       "</style>\n",
       "<table border=\"1\" class=\"dataframe\">\n",
       "  <thead>\n",
       "    <tr style=\"text-align: right;\">\n",
       "      <th></th>\n",
       "      <th>SepalLengthCm</th>\n",
       "      <th>SepalWidthCm</th>\n",
       "      <th>PetalLengthCm</th>\n",
       "      <th>PetalWidthCm</th>\n",
       "      <th>Species</th>\n",
       "    </tr>\n",
       "  </thead>\n",
       "  <tbody>\n",
       "    <tr>\n",
       "      <th>0</th>\n",
       "      <td>5.1</td>\n",
       "      <td>3.5</td>\n",
       "      <td>1.4</td>\n",
       "      <td>0.2</td>\n",
       "      <td>Iris-setosa</td>\n",
       "    </tr>\n",
       "    <tr>\n",
       "      <th>1</th>\n",
       "      <td>4.9</td>\n",
       "      <td>3.0</td>\n",
       "      <td>1.4</td>\n",
       "      <td>0.2</td>\n",
       "      <td>Iris-setosa</td>\n",
       "    </tr>\n",
       "    <tr>\n",
       "      <th>2</th>\n",
       "      <td>4.7</td>\n",
       "      <td>3.2</td>\n",
       "      <td>1.3</td>\n",
       "      <td>0.2</td>\n",
       "      <td>Iris-setosa</td>\n",
       "    </tr>\n",
       "    <tr>\n",
       "      <th>3</th>\n",
       "      <td>4.6</td>\n",
       "      <td>3.1</td>\n",
       "      <td>1.5</td>\n",
       "      <td>0.2</td>\n",
       "      <td>Iris-setosa</td>\n",
       "    </tr>\n",
       "    <tr>\n",
       "      <th>4</th>\n",
       "      <td>5.0</td>\n",
       "      <td>3.6</td>\n",
       "      <td>1.4</td>\n",
       "      <td>0.2</td>\n",
       "      <td>Iris-setosa</td>\n",
       "    </tr>\n",
       "  </tbody>\n",
       "</table>\n",
       "</div>"
      ],
      "text/plain": [
       "   SepalLengthCm  SepalWidthCm  PetalLengthCm  PetalWidthCm      Species\n",
       "0            5.1           3.5            1.4           0.2  Iris-setosa\n",
       "1            4.9           3.0            1.4           0.2  Iris-setosa\n",
       "2            4.7           3.2            1.3           0.2  Iris-setosa\n",
       "3            4.6           3.1            1.5           0.2  Iris-setosa\n",
       "4            5.0           3.6            1.4           0.2  Iris-setosa"
      ]
     },
     "execution_count": 3,
     "metadata": {},
     "output_type": "execute_result"
    }
   ],
   "source": [
    "#dropping the id cloumn as it has no role in deciding the clusters\n",
    "df=df.drop('Id',axis=1)\n",
    "df.head()"
   ]
  },
  {
   "cell_type": "code",
   "execution_count": 4,
   "metadata": {},
   "outputs": [
    {
     "data": {
      "text/html": [
       "<div>\n",
       "<style scoped>\n",
       "    .dataframe tbody tr th:only-of-type {\n",
       "        vertical-align: middle;\n",
       "    }\n",
       "\n",
       "    .dataframe tbody tr th {\n",
       "        vertical-align: top;\n",
       "    }\n",
       "\n",
       "    .dataframe thead th {\n",
       "        text-align: right;\n",
       "    }\n",
       "</style>\n",
       "<table border=\"1\" class=\"dataframe\">\n",
       "  <thead>\n",
       "    <tr style=\"text-align: right;\">\n",
       "      <th></th>\n",
       "      <th>SepalLengthCm</th>\n",
       "      <th>SepalWidthCm</th>\n",
       "      <th>PetalLengthCm</th>\n",
       "      <th>PetalWidthCm</th>\n",
       "    </tr>\n",
       "  </thead>\n",
       "  <tbody>\n",
       "    <tr>\n",
       "      <th>count</th>\n",
       "      <td>150.000000</td>\n",
       "      <td>150.000000</td>\n",
       "      <td>150.000000</td>\n",
       "      <td>150.000000</td>\n",
       "    </tr>\n",
       "    <tr>\n",
       "      <th>mean</th>\n",
       "      <td>5.843333</td>\n",
       "      <td>3.054000</td>\n",
       "      <td>3.758667</td>\n",
       "      <td>1.198667</td>\n",
       "    </tr>\n",
       "    <tr>\n",
       "      <th>std</th>\n",
       "      <td>0.828066</td>\n",
       "      <td>0.433594</td>\n",
       "      <td>1.764420</td>\n",
       "      <td>0.763161</td>\n",
       "    </tr>\n",
       "    <tr>\n",
       "      <th>min</th>\n",
       "      <td>4.300000</td>\n",
       "      <td>2.000000</td>\n",
       "      <td>1.000000</td>\n",
       "      <td>0.100000</td>\n",
       "    </tr>\n",
       "    <tr>\n",
       "      <th>25%</th>\n",
       "      <td>5.100000</td>\n",
       "      <td>2.800000</td>\n",
       "      <td>1.600000</td>\n",
       "      <td>0.300000</td>\n",
       "    </tr>\n",
       "    <tr>\n",
       "      <th>50%</th>\n",
       "      <td>5.800000</td>\n",
       "      <td>3.000000</td>\n",
       "      <td>4.350000</td>\n",
       "      <td>1.300000</td>\n",
       "    </tr>\n",
       "    <tr>\n",
       "      <th>75%</th>\n",
       "      <td>6.400000</td>\n",
       "      <td>3.300000</td>\n",
       "      <td>5.100000</td>\n",
       "      <td>1.800000</td>\n",
       "    </tr>\n",
       "    <tr>\n",
       "      <th>max</th>\n",
       "      <td>7.900000</td>\n",
       "      <td>4.400000</td>\n",
       "      <td>6.900000</td>\n",
       "      <td>2.500000</td>\n",
       "    </tr>\n",
       "  </tbody>\n",
       "</table>\n",
       "</div>"
      ],
      "text/plain": [
       "       SepalLengthCm  SepalWidthCm  PetalLengthCm  PetalWidthCm\n",
       "count     150.000000    150.000000     150.000000    150.000000\n",
       "mean        5.843333      3.054000       3.758667      1.198667\n",
       "std         0.828066      0.433594       1.764420      0.763161\n",
       "min         4.300000      2.000000       1.000000      0.100000\n",
       "25%         5.100000      2.800000       1.600000      0.300000\n",
       "50%         5.800000      3.000000       4.350000      1.300000\n",
       "75%         6.400000      3.300000       5.100000      1.800000\n",
       "max         7.900000      4.400000       6.900000      2.500000"
      ]
     },
     "execution_count": 4,
     "metadata": {},
     "output_type": "execute_result"
    }
   ],
   "source": [
    "df.describe()"
   ]
  },
  {
   "cell_type": "code",
   "execution_count": 5,
   "metadata": {},
   "outputs": [
    {
     "data": {
      "text/plain": [
       "SepalLengthCm    0\n",
       "SepalWidthCm     0\n",
       "PetalLengthCm    0\n",
       "PetalWidthCm     0\n",
       "Species          0\n",
       "dtype: int64"
      ]
     },
     "execution_count": 5,
     "metadata": {},
     "output_type": "execute_result"
    }
   ],
   "source": [
    "df.isnull().sum()"
   ]
  },
  {
   "cell_type": "code",
   "execution_count": 6,
   "metadata": {},
   "outputs": [
    {
     "data": {
      "text/plain": [
       "<matplotlib.axes._subplots.AxesSubplot at 0x2287f631d08>"
      ]
     },
     "execution_count": 6,
     "metadata": {},
     "output_type": "execute_result"
    },
    {
     "data": {
      "image/png": "[encoded data removed]",
      "text/plain": [
       "<Figure size 432x288 with 1 Axes>"
      ]
     },
     "metadata": {
      "needs_background": "light"
     },
     "output_type": "display_data"
    }
   ],
   "source": [
    "sns.countplot(df['Species'])"
   ]
  },
  {
   "cell_type": "code",
   "execution_count": 7,
   "metadata": {},
   "outputs": [],
   "source": [
    "x=df.iloc[:, :3].values\n",
    "y=df.iloc[:,-1].values.reshape(1,-1)"
   ]
  },
  {
   "cell_type": "markdown",
   "metadata": {},
   "source": [
    "In the above cell 'x' denotes the features and 'y' denotes the species of Iris flowers"
   ]
  },
  {
   "cell_type": "code",
   "execution_count": 8,
   "metadata": {},
   "outputs": [],
   "source": [
    "#standardizing data\n",
    "from sklearn.preprocessing import StandardScaler\n",
    "scaler = StandardScaler()\n",
    "data_scaled = scaler.fit_transform(x)"
   ]
  },
  {
   "cell_type": "code",
   "execution_count": 9,
   "metadata": {},
   "outputs": [
    {
     "data": {
      "text/plain": [
       "array([[-0.90068117,  1.03205722, -1.3412724 ],\n",
       "       [-1.14301691, -0.1249576 , -1.3412724 ],\n",
       "       [-1.38535265,  0.33784833, -1.39813811],\n",
       "       [-1.50652052,  0.10644536, -1.2844067 ],\n",
       "       [-1.02184904,  1.26346019, -1.3412724 ],\n",
       "       [-0.53717756,  1.95766909, -1.17067529],\n",
       "       [-1.50652052,  0.80065426, -1.3412724 ],\n",
       "       [-1.02184904,  0.80065426, -1.2844067 ],\n",
       "       [-1.74885626, -0.35636057, -1.3412724 ],\n",
       "       [-1.14301691,  0.10644536, -1.2844067 ],\n",
       "       [-0.53717756,  1.49486315, -1.2844067 ],\n",
       "       [-1.26418478,  0.80065426, -1.227541  ],\n",
       "       [-1.26418478, -0.1249576 , -1.3412724 ],\n",
       "       [-1.87002413, -0.1249576 , -1.51186952],\n",
       "       [-0.05250608,  2.18907205, -1.45500381],\n",
       "       [-0.17367395,  3.11468391, -1.2844067 ],\n",
       "       [-0.53717756,  1.95766909, -1.39813811],\n",
       "       [-0.90068117,  1.03205722, -1.3412724 ],\n",
       "       [-0.17367395,  1.72626612, -1.17067529],\n",
       "       [-0.90068117,  1.72626612, -1.2844067 ],\n",
       "       [-0.53717756,  0.80065426, -1.17067529],\n",
       "       [-0.90068117,  1.49486315, -1.2844067 ],\n",
       "       [-1.50652052,  1.26346019, -1.56873522],\n",
       "       [-0.90068117,  0.56925129, -1.17067529],\n",
       "       [-1.26418478,  0.80065426, -1.05694388],\n",
       "       [-1.02184904, -0.1249576 , -1.227541  ],\n",
       "       [-1.02184904,  0.80065426, -1.227541  ],\n",
       "       [-0.7795133 ,  1.03205722, -1.2844067 ],\n",
       "       [-0.7795133 ,  0.80065426, -1.3412724 ],\n",
       "       [-1.38535265,  0.33784833, -1.227541  ],\n",
       "       [-1.26418478,  0.10644536, -1.227541  ],\n",
       "       [-0.53717756,  0.80065426, -1.2844067 ],\n",
       "       [-0.7795133 ,  2.42047502, -1.2844067 ],\n",
       "       [-0.41600969,  2.65187798, -1.3412724 ],\n",
       "       [-1.14301691,  0.10644536, -1.2844067 ],\n",
       "       [-1.02184904,  0.33784833, -1.45500381],\n",
       "       [-0.41600969,  1.03205722, -1.39813811],\n",
       "       [-1.14301691,  0.10644536, -1.2844067 ],\n",
       "       [-1.74885626, -0.1249576 , -1.39813811],\n",
       "       [-0.90068117,  0.80065426, -1.2844067 ],\n",
       "       [-1.02184904,  1.03205722, -1.39813811],\n",
       "       [-1.62768839, -1.74477836, -1.39813811],\n",
       "       [-1.74885626,  0.33784833, -1.39813811],\n",
       "       [-1.02184904,  1.03205722, -1.227541  ],\n",
       "       [-0.90068117,  1.72626612, -1.05694388],\n",
       "       [-1.26418478, -0.1249576 , -1.3412724 ],\n",
       "       [-0.90068117,  1.72626612, -1.227541  ],\n",
       "       [-1.50652052,  0.33784833, -1.3412724 ],\n",
       "       [-0.65834543,  1.49486315, -1.2844067 ],\n",
       "       [-1.02184904,  0.56925129, -1.3412724 ],\n",
       "       [ 1.40150837,  0.33784833,  0.53529583],\n",
       "       [ 0.67450115,  0.33784833,  0.42156442],\n",
       "       [ 1.2803405 ,  0.10644536,  0.64902723],\n",
       "       [-0.41600969, -1.74477836,  0.1372359 ],\n",
       "       [ 0.79566902, -0.58776353,  0.47843012],\n",
       "       [-0.17367395, -0.58776353,  0.42156442],\n",
       "       [ 0.55333328,  0.56925129,  0.53529583],\n",
       "       [-1.14301691, -1.51337539, -0.26082403],\n",
       "       [ 0.91683689, -0.35636057,  0.47843012],\n",
       "       [-0.7795133 , -0.8191665 ,  0.08037019],\n",
       "       [-1.02184904, -2.43898725, -0.14709262],\n",
       "       [ 0.06866179, -0.1249576 ,  0.25096731],\n",
       "       [ 0.18982966, -1.97618132,  0.1372359 ],\n",
       "       [ 0.31099753, -0.35636057,  0.53529583],\n",
       "       [-0.29484182, -0.35636057, -0.09022692],\n",
       "       [ 1.03800476,  0.10644536,  0.36469871],\n",
       "       [-0.29484182, -0.1249576 ,  0.42156442],\n",
       "       [-0.05250608, -0.8191665 ,  0.1941016 ],\n",
       "       [ 0.4321654 , -1.97618132,  0.42156442],\n",
       "       [-0.29484182, -1.28197243,  0.08037019],\n",
       "       [ 0.06866179,  0.33784833,  0.59216153],\n",
       "       [ 0.31099753, -0.58776353,  0.1372359 ],\n",
       "       [ 0.55333328, -1.28197243,  0.64902723],\n",
       "       [ 0.31099753, -0.58776353,  0.53529583],\n",
       "       [ 0.67450115, -0.35636057,  0.30783301],\n",
       "       [ 0.91683689, -0.1249576 ,  0.36469871],\n",
       "       [ 1.15917263, -0.58776353,  0.59216153],\n",
       "       [ 1.03800476, -0.1249576 ,  0.70589294],\n",
       "       [ 0.18982966, -0.35636057,  0.42156442],\n",
       "       [-0.17367395, -1.05056946, -0.14709262],\n",
       "       [-0.41600969, -1.51337539,  0.02350449],\n",
       "       [-0.41600969, -1.51337539, -0.03336121],\n",
       "       [-0.05250608, -0.8191665 ,  0.08037019],\n",
       "       [ 0.18982966, -0.8191665 ,  0.76275864],\n",
       "       [-0.53717756, -0.1249576 ,  0.42156442],\n",
       "       [ 0.18982966,  0.80065426,  0.42156442],\n",
       "       [ 1.03800476,  0.10644536,  0.53529583],\n",
       "       [ 0.55333328, -1.74477836,  0.36469871],\n",
       "       [-0.29484182, -0.1249576 ,  0.1941016 ],\n",
       "       [-0.41600969, -1.28197243,  0.1372359 ],\n",
       "       [-0.41600969, -1.05056946,  0.36469871],\n",
       "       [ 0.31099753, -0.1249576 ,  0.47843012],\n",
       "       [-0.05250608, -1.05056946,  0.1372359 ],\n",
       "       [-1.02184904, -1.74477836, -0.26082403],\n",
       "       [-0.29484182, -0.8191665 ,  0.25096731],\n",
       "       [-0.17367395, -0.1249576 ,  0.25096731],\n",
       "       [-0.17367395, -0.35636057,  0.25096731],\n",
       "       [ 0.4321654 , -0.35636057,  0.30783301],\n",
       "       [-0.90068117, -1.28197243, -0.43142114],\n",
       "       [-0.17367395, -0.58776353,  0.1941016 ],\n",
       "       [ 0.55333328,  0.56925129,  1.27454998],\n",
       "       [-0.05250608, -0.8191665 ,  0.76275864],\n",
       "       [ 1.52267624, -0.1249576 ,  1.21768427],\n",
       "       [ 0.55333328, -0.35636057,  1.04708716],\n",
       "       [ 0.79566902, -0.1249576 ,  1.16081857],\n",
       "       [ 2.12851559, -0.1249576 ,  1.6157442 ],\n",
       "       [-1.14301691, -1.28197243,  0.42156442],\n",
       "       [ 1.76501198, -0.35636057,  1.44514709],\n",
       "       [ 1.03800476, -1.28197243,  1.16081857],\n",
       "       [ 1.64384411,  1.26346019,  1.33141568],\n",
       "       [ 0.79566902,  0.33784833,  0.76275864],\n",
       "       [ 0.67450115, -0.8191665 ,  0.87649005],\n",
       "       [ 1.15917263, -0.1249576 ,  0.99022146],\n",
       "       [-0.17367395, -1.28197243,  0.70589294],\n",
       "       [-0.05250608, -0.58776353,  0.76275864],\n",
       "       [ 0.67450115,  0.33784833,  0.87649005],\n",
       "       [ 0.79566902, -0.1249576 ,  0.99022146],\n",
       "       [ 2.24968346,  1.72626612,  1.67260991],\n",
       "       [ 2.24968346, -1.05056946,  1.78634131],\n",
       "       [ 0.18982966, -1.97618132,  0.70589294],\n",
       "       [ 1.2803405 ,  0.33784833,  1.10395287],\n",
       "       [-0.29484182, -0.58776353,  0.64902723],\n",
       "       [ 2.24968346, -0.58776353,  1.67260991],\n",
       "       [ 0.55333328, -0.8191665 ,  0.64902723],\n",
       "       [ 1.03800476,  0.56925129,  1.10395287],\n",
       "       [ 1.64384411,  0.33784833,  1.27454998],\n",
       "       [ 0.4321654 , -0.58776353,  0.59216153],\n",
       "       [ 0.31099753, -0.1249576 ,  0.64902723],\n",
       "       [ 0.67450115, -0.58776353,  1.04708716],\n",
       "       [ 1.64384411, -0.1249576 ,  1.16081857],\n",
       "       [ 1.88617985, -0.58776353,  1.33141568],\n",
       "       [ 2.4920192 ,  1.72626612,  1.50201279],\n",
       "       [ 0.67450115, -0.58776353,  1.04708716],\n",
       "       [ 0.55333328, -0.58776353,  0.76275864],\n",
       "       [ 0.31099753, -1.05056946,  1.04708716],\n",
       "       [ 2.24968346, -0.1249576 ,  1.33141568],\n",
       "       [ 0.55333328,  0.80065426,  1.04708716],\n",
       "       [ 0.67450115,  0.10644536,  0.99022146],\n",
       "       [ 0.18982966, -0.1249576 ,  0.59216153],\n",
       "       [ 1.2803405 ,  0.10644536,  0.93335575],\n",
       "       [ 1.03800476,  0.10644536,  1.04708716],\n",
       "       [ 1.2803405 ,  0.10644536,  0.76275864],\n",
       "       [-0.05250608, -0.8191665 ,  0.76275864],\n",
       "       [ 1.15917263,  0.33784833,  1.21768427],\n",
       "       [ 1.03800476,  0.56925129,  1.10395287],\n",
       "       [ 1.03800476, -0.1249576 ,  0.81962435],\n",
       "       [ 0.55333328, -1.28197243,  0.70589294],\n",
       "       [ 0.79566902, -0.1249576 ,  0.81962435],\n",
       "       [ 0.4321654 ,  0.80065426,  0.93335575],\n",
       "       [ 0.06866179, -0.1249576 ,  0.76275864]])"
      ]
     },
     "execution_count": 9,
     "metadata": {},
     "output_type": "execute_result"
    }
   ],
   "source": [
    "data_scaled"
   ]
  },
  {
   "cell_type": "code",
   "execution_count": 10,
   "metadata": {},
   "outputs": [],
   "source": [
    "# fitting multiple k-means algorithms and storing the values in an empty list\n",
    "SSE = []\n",
    "for cluster in range(1,10):\n",
    "    kmeans = KMeans(n_clusters = cluster, init='k-means++')\n",
    "    kmeans.fit(data_scaled)\n",
    "    SSE.append(kmeans.inertia_)"
   ]
  },
  {
   "cell_type": "code",
   "execution_count": 11,
   "metadata": {},
   "outputs": [
    {
     "data": {
      "text/plain": [
       "Text(0, 0.5, 'Inertia')"
      ]
     },
     "execution_count": 11,
     "metadata": {},
     "output_type": "execute_result"
    },
    {
     "data": {
      "image/png": "[encoded data removed]",
      "text/plain": [
       "<Figure size 864x432 with 1 Axes>"
      ]
     },
     "metadata": {
      "needs_background": "light"
     },
     "output_type": "display_data"
    }
   ],
   "source": [
    "# converting the results into a dataframe and plotting them\n",
    "frame = pd.DataFrame({'Cluster':range(1,10), 'SSE':SSE})\n",
    "plt.figure(figsize=(12,6))\n",
    "plt.plot(frame['Cluster'], frame['SSE'], marker='o')\n",
    "plt.xlabel('Number of clusters')\n",
    "plt.ylabel('Inertia')"
   ]
  },
  {
   "cell_type": "code",
   "execution_count": 12,
   "metadata": {},
   "outputs": [
    {
     "data": {
      "text/html": [
       "<div>\n",
       "<style scoped>\n",
       "    .dataframe tbody tr th:only-of-type {\n",
       "        vertical-align: middle;\n",
       "    }\n",
       "\n",
       "    .dataframe tbody tr th {\n",
       "        vertical-align: top;\n",
       "    }\n",
       "\n",
       "    .dataframe thead th {\n",
       "        text-align: right;\n",
       "    }\n",
       "</style>\n",
       "<table border=\"1\" class=\"dataframe\">\n",
       "  <thead>\n",
       "    <tr style=\"text-align: right;\">\n",
       "      <th></th>\n",
       "      <th>Cluster</th>\n",
       "      <th>SSE</th>\n",
       "    </tr>\n",
       "  </thead>\n",
       "  <tbody>\n",
       "    <tr>\n",
       "      <th>0</th>\n",
       "      <td>1</td>\n",
       "      <td>450.000000</td>\n",
       "    </tr>\n",
       "    <tr>\n",
       "      <th>1</th>\n",
       "      <td>2</td>\n",
       "      <td>191.883095</td>\n",
       "    </tr>\n",
       "    <tr>\n",
       "      <th>2</th>\n",
       "      <td>3</td>\n",
       "      <td>120.355447</td>\n",
       "    </tr>\n",
       "    <tr>\n",
       "      <th>3</th>\n",
       "      <td>4</td>\n",
       "      <td>95.009761</td>\n",
       "    </tr>\n",
       "    <tr>\n",
       "      <th>4</th>\n",
       "      <td>5</td>\n",
       "      <td>75.505291</td>\n",
       "    </tr>\n",
       "    <tr>\n",
       "      <th>5</th>\n",
       "      <td>6</td>\n",
       "      <td>62.920772</td>\n",
       "    </tr>\n",
       "    <tr>\n",
       "      <th>6</th>\n",
       "      <td>7</td>\n",
       "      <td>54.920991</td>\n",
       "    </tr>\n",
       "    <tr>\n",
       "      <th>7</th>\n",
       "      <td>8</td>\n",
       "      <td>46.880374</td>\n",
       "    </tr>\n",
       "    <tr>\n",
       "      <th>8</th>\n",
       "      <td>9</td>\n",
       "      <td>40.102202</td>\n",
       "    </tr>\n",
       "  </tbody>\n",
       "</table>\n",
       "</div>"
      ],
      "text/plain": [
       "   Cluster         SSE\n",
       "0        1  450.000000\n",
       "1        2  191.883095\n",
       "2        3  120.355447\n",
       "3        4   95.009761\n",
       "4        5   75.505291\n",
       "5        6   62.920772\n",
       "6        7   54.920991\n",
       "7        8   46.880374\n",
       "8        9   40.102202"
      ]
     },
     "execution_count": 12,
     "metadata": {},
     "output_type": "execute_result"
    }
   ],
   "source": [
    "frame"
   ]
  },
  {
   "cell_type": "markdown",
   "metadata": {},
   "source": [
    "#### From above graph we observe that 3 clusters is optimal"
   ]
  },
  {
   "cell_type": "code",
   "execution_count": 13,
   "metadata": {},
   "outputs": [],
   "source": [
    "# k means using 3 clusters and k-means++ initialization\n",
    "kmeans = KMeans(n_clusters = 3, init='k-means++')\n",
    "kmeans.fit(data_scaled)\n",
    "pred = kmeans.predict(data_scaled)"
   ]
  },
  {
   "cell_type": "code",
   "execution_count": 14,
   "metadata": {},
   "outputs": [
    {
     "data": {
      "text/plain": [
       "2    52\n",
       "1    49\n",
       "0    49\n",
       "Name: cluster, dtype: int64"
      ]
     },
     "execution_count": 14,
     "metadata": {},
     "output_type": "execute_result"
    }
   ],
   "source": [
    "frame = pd.DataFrame(data_scaled)\n",
    "frame['cluster'] = pred\n",
    "frame['cluster'].value_counts()"
   ]
  },
  {
   "cell_type": "code",
   "execution_count": 15,
   "metadata": {},
   "outputs": [
    {
     "data": {
      "text/plain": [
       "<matplotlib.collections.PathCollection at 0x2287fe98e48>"
      ]
     },
     "execution_count": 15,
     "metadata": {},
     "output_type": "execute_result"
    },
    {
     "data": {
      "image/png": "[encoded data removed]",
      "text/plain": [
       "<Figure size 864x432 with 1 Axes>"
      ]
     },
     "metadata": {
      "needs_background": "light"
     },
     "output_type": "display_data"
    }
   ],
   "source": [
    "#Visualizing the clusters\n",
    "plt.figure(figsize=(12,6))\n",
    "plt.scatter(data_scaled[pred==0,0],data_scaled[pred==0,1],c='green',label='Iris-setosa')\n",
    "plt.scatter(data_scaled[pred==1,0],data_scaled[pred==1,1],c='purple',label='Iris-versicolour')\n",
    "plt.scatter(data_scaled[pred==2,0],data_scaled[pred==2,1],c='orange',label='Iris-verginica')"
   ]
  }
 ],
 "metadata": {
  "kernelspec": {
   "display_name": "Python 3",
   "language": "python",
   "name": "python3"
  },
  "language_info": {
   "codemirror_mode": {
    "name": "ipython",
    "version": 3
   },
   "file_extension": ".py",
   "mimetype": "text/x-python",
   "name": "python",
   "nbconvert_exporter": "python",
   "pygments_lexer": "ipython3",
   "version": "3.7.7"
  }
 },
 "nbformat": 4,
 "nbformat_minor": 4
}
